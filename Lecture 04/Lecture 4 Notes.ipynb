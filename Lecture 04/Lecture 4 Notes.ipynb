{
 "cells": [
  {
   "attachments": {},
   "cell_type": "markdown",
   "metadata": {},
   "source": [
    "# <span style=\"color:lightblue\"> Lecture 4: Boleean variables and if/else statements </span>"
   ]
  },
  {
   "attachments": {},
   "cell_type": "markdown",
   "metadata": {},
   "source": [
    "<font size=\"5\"> \n",
    "\n",
    "In the previous class we:\n",
    "- Introduced numeric lists and random numbers\n",
    "- Talked about mathematical operations"
   ]
  },
  {
   "attachments": {},
   "cell_type": "markdown",
   "metadata": {},
   "source": [
    "<font size=\"5\"> \n",
    "\n",
    "In this class we will:\n",
    "\n",
    "- Introduce bolean types\n",
    "- Test different categories of expressions with text and numbers\n",
    "- Study if/else statements"
   ]
  },
  {
   "attachments": {},
   "cell_type": "markdown",
   "metadata": {},
   "source": [
    "## <span style=\"color:lightblue\"> I. Import Libraries </span>"
   ]
  },
  {
   "cell_type": "code",
   "execution_count": 17,
   "metadata": {},
   "outputs": [],
   "source": [
    "# the \"numPy\" library is used for mathematical operations\n",
    "# the \"matplotlib\" library is for generating graphs\n",
    "\n",
    "import numpy as np\n",
    "import matplotlib.pyplot as plt"
   ]
  },
  {
   "attachments": {},
   "cell_type": "markdown",
   "metadata": {},
   "source": [
    "##  <span style=\"color:lightblue\"> II. Testing Expressions with Text </span>"
   ]
  },
  {
   "attachments": {},
   "cell_type": "markdown",
   "metadata": {},
   "source": [
    "<font size = \"5\" >\n",
    "\n",
    "<font size=\"5\"> \n",
    "\n",
    "- Sometimes need to know whether some expression is ```True``` or ```False```\n",
    "- In Python this is called a **Boolean** type\n"
   ]
  },
  {
   "attachments": {},
   "cell_type": "markdown",
   "metadata": {},
   "source": [
    "<font size = \"5\">\n",
    "\n",
    "Test equality of strings (==)"
   ]
  },
  {
   "cell_type": "code",
   "execution_count": 18,
   "metadata": {},
   "outputs": [
    {
     "data": {
      "text/plain": [
       "False"
      ]
     },
     "execution_count": 18,
     "metadata": {},
     "output_type": "execute_result"
    }
   ],
   "source": [
    "# You can compare two strings by using a double \"equal sign\"\n",
    "# This can be useful if you're trying to evaluate whether data was entered correctly\n",
    "\n",
    "\"Is this the real life?\" == \"is this just fantasy?\"\n",
    "\n",
    "# Note: This is a reference to the famous Queen song \"Bohemian Rhapsody\"!"
   ]
  },
  {
   "cell_type": "code",
   "execution_count": 19,
   "metadata": {},
   "outputs": [
    {
     "name": "stdout",
     "output_type": "stream",
     "text": [
      "False\n"
     ]
    }
   ],
   "source": [
    "# Equality of strings is most useful when you're comparing an unknown variable\n",
    "# to a benchmark. \n",
    "\n",
    "# Below, try switching the value of \"any_questions\"\n",
    "\n",
    "any_questions = \"no\"\n",
    "\n",
    "print( any_questions == \"yes\" )\n"
   ]
  },
  {
   "attachments": {},
   "cell_type": "markdown",
   "metadata": {},
   "source": [
    "<font size = \"5\">\n",
    "\n",
    "Test for the presence of keywords in a sentence (in)"
   ]
  },
  {
   "cell_type": "code",
   "execution_count": 20,
   "metadata": {},
   "outputs": [
    {
     "data": {
      "text/plain": [
       "False"
      ]
     },
     "execution_count": 20,
     "metadata": {},
     "output_type": "execute_result"
    }
   ],
   "source": [
    "# The first way to use the \"in\" command is to check whether a word is contained \n",
    "# in a sentence. This can be useful if you're trying to search for patterns\n",
    "\n",
    "keyword = \"Sean\"\n",
    "sentence = \"The Federal Reserve makes forecasts about many economic outcomes\"\n",
    "\n",
    "keyword in sentence\n",
    "\n",
    "# Try changing the keyword!"
   ]
  },
  {
   "attachments": {},
   "cell_type": "markdown",
   "metadata": {},
   "source": [
    "<font size = \"5\">\n",
    "\n",
    "Test whether a word is part of a list (in)"
   ]
  },
  {
   "cell_type": "code",
   "execution_count": 20,
   "metadata": {},
   "outputs": [
    {
     "name": "stdout",
     "output_type": "stream",
     "text": [
      "False\n"
     ]
    }
   ],
   "source": [
    "# There is a second way to use the \"in\" command\n",
    "# Use the condition \"in\" to test whether a word is part of a list\n",
    "# when the right-han size is a list \"word in list\" will search for an exact match\n",
    "\n",
    "current_month      = \"January\"\n",
    "list_summer_months = [\"June\",\"July\",\"August\"]\n",
    "\n",
    "print( current_month in list_summer_months)"
   ]
  },
  {
   "attachments": {},
   "cell_type": "markdown",
   "metadata": {},
   "source": [
    "<font size = \"5\">\n",
    "\n",
    "<span style=\"color:red\"> Common Pitfall: </span> Single vs double equality "
   ]
  },
  {
   "cell_type": "code",
   "execution_count": 21,
   "metadata": {},
   "outputs": [
    {
     "name": "stdout",
     "output_type": "stream",
     "text": [
      "True\n"
     ]
    }
   ],
   "source": [
    "# A single vs double equality sign makes a BIG difference\n",
    "# When you have a single equality (=) you are assignning the variable\n",
    "# When you have a double equality (==) you are comparing two values\n",
    "\n",
    "message_hello = \"hello\"\n",
    "\n",
    "print( message_hello == \"hello\" )"
   ]
  },
  {
   "attachments": {},
   "cell_type": "markdown",
   "metadata": {},
   "source": [
    "<font size = \"5\">\n",
    "\n",
    "Try it yourself!\n",
    "\n",
    "Write code to check whether the string \"red\" is contained in the list\n",
    "\n",
    "[\"red\",\"green\",\"yellow\",\"orange\"]"
   ]
  },
  {
   "cell_type": "code",
   "execution_count": 6,
   "metadata": {},
   "outputs": [
    {
     "data": {
      "text/plain": [
       "True"
      ]
     },
     "execution_count": 6,
     "metadata": {},
     "output_type": "execute_result"
    }
   ],
   "source": [
    "# Write down your solution!\n",
    "\n",
    "color= \"red\"\n",
    "list_colors= [\"red\",\"green\",\"yellow\",\"orange\"]\n",
    "\n",
    "color in list_colors"
   ]
  },
  {
   "attachments": {},
   "cell_type": "markdown",
   "metadata": {},
   "source": [
    "##  <span style=\"color:lightblue\"> III. Testing Expressions with Numbers </span>"
   ]
  },
  {
   "attachments": {},
   "cell_type": "markdown",
   "metadata": {},
   "source": [
    "<font size = \"5\">\n",
    "\n",
    "Tests with numbers\n",
    "\n",
    "- Strictly less than (<), less than or equal (<=)\n",
    "- Equal (==)\n",
    "- Strictly more than (>), greater than or equal to (>=)"
   ]
  },
  {
   "cell_type": "code",
   "execution_count": 7,
   "metadata": {},
   "outputs": [
    {
     "name": "stdout",
     "output_type": "stream",
     "text": [
      "False\n",
      "True\n",
      "True\n",
      "True\n",
      "False\n"
     ]
    }
   ],
   "source": [
    "# We can check equality and inequality constraints\n",
    "# Try changing $x$ and see what happens!\n",
    "\n",
    "x = 5\n",
    "\n",
    "print( x < 5 )\n",
    "print( x <= 5 )\n",
    "print( x == 5 )\n",
    "print( x >= 5 )\n",
    "print( x > 5 )\n"
   ]
  },
  {
   "attachments": {},
   "cell_type": "markdown",
   "metadata": {},
   "source": [
    "<font size = \"5\">\n",
    "\n",
    "Validate a data type"
   ]
  },
  {
   "cell_type": "code",
   "execution_count": 21,
   "metadata": {},
   "outputs": [
    {
     "name": "stdout",
     "output_type": "stream",
     "text": [
      "False\n",
      "True\n",
      "False\n"
     ]
    }
   ],
   "source": [
    "# The isinstance command\n",
    "\n",
    "y = np.pi\n",
    "\n",
    "print( isinstance(y,int)  )\n",
    "print( isinstance(y,float) )\n",
    "print( isinstance(y,str) )\n",
    "\n",
    "## Common pitall:\n",
    "## Doing type(y) == \"int\" will NOT produce the right answer.\n"
   ]
  },
  {
   "attachments": {},
   "cell_type": "markdown",
   "metadata": {},
   "source": [
    "<font size = \"5\">\n",
    "\n",
    "<span style=\"color:red\"> Common Pitfall: </span> Equality of vectors is done element-by-element"
   ]
  },
  {
   "cell_type": "code",
   "execution_count": 23,
   "metadata": {},
   "outputs": [
    {
     "data": {
      "text/plain": [
       "array([ True,  True, False,  True, False])"
      ]
     },
     "execution_count": 23,
     "metadata": {},
     "output_type": "execute_result"
    }
   ],
   "source": [
    "vec_a = np.array([1,2,3,10,8])\n",
    "vec_b = np.array([1,2,4,10,6])\n",
    "\n",
    "vec_a == vec_b"
   ]
  },
  {
   "attachments": {},
   "cell_type": "markdown",
   "metadata": {},
   "source": [
    "<font size = \"5\">\n",
    "\n",
    "Try it yourself!\n",
    "\n",
    "- Check whether $e^5$ < 50\n",
    "- Define $ x= -1$. Check whether $x^2 + 2x + 1 = 0$."
   ]
  },
  {
   "cell_type": "code",
   "execution_count": 30,
   "metadata": {},
   "outputs": [
    {
     "name": "stdout",
     "output_type": "stream",
     "text": [
      "False\n",
      "True\n"
     ]
    }
   ],
   "source": [
    "# Write down your own solution\n",
    "print(np.exp(5)<50)\n",
    "\n",
    "x= -1\n",
    "print (x**2+2*x+1==0)\n",
    "\n"
   ]
  },
  {
   "attachments": {},
   "cell_type": "markdown",
   "metadata": {},
   "source": [
    "##  <span style=\"color:lightblue\"> IV. Testing Multiple Expressions </span>"
   ]
  },
  {
   "attachments": {},
   "cell_type": "markdown",
   "metadata": {},
   "source": [
    "<font size = \"5\" >\n",
    "\n",
    "<span style=\"color:red\"> not </span> Condition A: prefix \"not\""
   ]
  },
  {
   "cell_type": "code",
   "execution_count": 27,
   "metadata": {},
   "outputs": [
    {
     "data": {
      "text/plain": [
       "True"
      ]
     },
     "execution_count": 27,
     "metadata": {},
     "output_type": "execute_result"
    }
   ],
   "source": [
    "age  = 22\n",
    "\n",
    "# Can this person legally vote in the US?\n",
    "not (age < 18)\n",
    "\n",
    "# Note: This expression evaluates whether a person\n",
    "# is not underage\n",
    "\n",
    "# The \"not\" word can be separated by a space and the parentheses are not necessary\n",
    "# but the parentheses can be helpful to organize your code logically\n"
   ]
  },
  {
   "attachments": {},
   "cell_type": "markdown",
   "metadata": {},
   "source": [
    "<font size = \"5\" >\n",
    "\n",
    "Condition A <span style=\"color:red\"> and </span> Condition B need to be satisfied: &"
   ]
  },
  {
   "cell_type": "code",
   "execution_count": 31,
   "metadata": {},
   "outputs": [
    {
     "data": {
      "text/plain": [
       "True"
      ]
     },
     "execution_count": 31,
     "metadata": {},
     "output_type": "execute_result"
    }
   ],
   "source": [
    "# We use the \"&\" symbol to separate \"AND\" conditions\n",
    "age = 24\n",
    "\n",
    "# Is this age between 20 and 30 (including these ages)?\n",
    "( age >= 20 ) & (age <= 30)\n"
   ]
  },
  {
   "attachments": {},
   "cell_type": "markdown",
   "metadata": {},
   "source": [
    "<font size = \"5\" >\n",
    "\n",
    "<font size = \"5\" >\n",
    "\n",
    "Condition A <span style=\"color:red\"> or </span> Condition B need to be satisfied: |"
   ]
  },
  {
   "cell_type": "code",
   "execution_count": 29,
   "metadata": {},
   "outputs": [
    {
     "data": {
      "text/plain": [
       "True"
      ]
     },
     "execution_count": 29,
     "metadata": {},
     "output_type": "execute_result"
    }
   ],
   "source": [
    "# We use the \"|\" symbol to separate \"OR\" conditions.\n",
    "\n",
    "student_status = \"freshman\" \n",
    "\n",
    "# Is the student in the first two years of undergrad?\n",
    "(student_status == \"freshman\") | (student_status == \"sophomore\")\n",
    "\n"
   ]
  },
  {
   "attachments": {},
   "cell_type": "markdown",
   "metadata": {},
   "source": [
    "<font size = \"5\">\n",
    "\n",
    "Try it yourself! Write code that checks the following conditions:\n",
    "\n",
    "- Whether age is strictly less than 20, or greater than 30\n",
    "- Not in the age range 25-27\n",
    "\n"
   ]
  },
  {
   "cell_type": "code",
   "execution_count": null,
   "metadata": {},
   "outputs": [],
   "source": []
  },
  {
   "cell_type": "code",
   "execution_count": null,
   "metadata": {},
   "outputs": [],
   "source": []
  },
  {
   "cell_type": "code",
   "execution_count": 39,
   "metadata": {},
   "outputs": [
    {
     "name": "stdout",
     "output_type": "stream",
     "text": [
      "False\n",
      "True\n"
     ]
    }
   ],
   "source": [
    "# Write your own code\n",
    "age2=23\n",
    "print((age2 < 20) | (age2 > 30))\n",
    "print (not ((25 <= age2) & (age2 <= 27)))\n",
    "\n",
    "\n",
    "\n"
   ]
  },
  {
   "attachments": {},
   "cell_type": "markdown",
   "metadata": {},
   "source": [
    "##  <span style=\"color:lightblue\"> IV. Flow Control (if/elif/else) </span>\n",
    "\n",
    "<font size = \"5\">\n",
    "\n",
    "Why?\n",
    "\n",
    "- Adapt the code to different logical conditions\n",
    "- We'll use these ideas again for data cleaning!"
   ]
  },
  {
   "attachments": {},
   "cell_type": "markdown",
   "metadata": {},
   "source": [
    "<font size = \"5\">\n",
    "\n",
    "<table><tr>\n",
    "<td> <img src=\"figures/if.png\" alt=\"drawing\" width=\"300\"/>  </td>\n",
    "<td>  Running a part of the code <br>\n",
    "only if a condition is met: <br>\n",
    "\n",
    "``` python\n",
    "    if test_expression:\n",
    "        Body\n",
    "```\n",
    " </td>\n",
    "</tr></table>\n"
   ]
  },
  {
   "cell_type": "code",
   "execution_count": 42,
   "metadata": {},
   "outputs": [
    {
     "name": "stdout",
     "output_type": "stream",
     "text": [
      "Need to give more explanations\n"
     ]
    }
   ],
   "source": [
    "#------------------------------------------------------------------------------#\n",
    "#--------------------------- EXPLANATION OF IF SYNTAX -------------------------#\n",
    "#\n",
    "# Test expression\n",
    "#---- We type \"if\" followed by a logical condition and the \":\" symbol.\n",
    "#---- The \":\" says: run the following command \n",
    "#\n",
    "# Body of expression\n",
    "#---- The \"body\" of the \"if\" statement needs to indented\n",
    "#---- You can indent text by pressing the \"tab\" button in your keyborad.\n",
    "#\n",
    "# If the condition is true, a message will appear.\n",
    "# If the condition is false, then nothing happens\n",
    "#------------------------------------------------------------------------------#\n",
    "\n",
    "\n",
    "# We start by defining a string\n",
    "any_questions = \"yes\"\n",
    "\n",
    "if any_questions == \"yes\":\n",
    "    print(\"Need to give more explanations\")\n"
   ]
  },
  {
   "attachments": {},
   "cell_type": "markdown",
   "metadata": {},
   "source": [
    "<font size = \"5\">\n",
    "\n",
    "<table><tr>\n",
    "<td> <img src=\"figures/ifelse.png\" alt=\"drawing\" width=\"300\"/>  </td>\n",
    "<td>  Running two different lines of code <br>\n",
    "depending on a condition <br>\n",
    "\n",
    "``` python\n",
    "    if test_expression:\n",
    "        Body\n",
    "    else:\n",
    "        Body\n",
    "```\n",
    "\n",
    " </td>\n",
    "</tr></table>"
   ]
  },
  {
   "cell_type": "code",
   "execution_count": 48,
   "metadata": {},
   "outputs": [
    {
     "data": {
      "image/png": "[encoded data removed]",
      "text/plain": [
       "<Figure size 640x480 with 1 Axes>"
      ]
     },
     "metadata": {},
     "output_type": "display_data"
    }
   ],
   "source": [
    "#------------------------------------------------------------------------------#\n",
    "#--------------------------- EXPLANATION OF IF/ELSE SYNTAX --------------------#\n",
    "#\n",
    "# If/else statements are useful to run different types of commands\n",
    "# depending on a user-specified input\n",
    "#\n",
    "# This code prints a red graph if \"is_red_graph\" is set to \"True\"\n",
    "# and outputs a purple graph otherwise.\n",
    "#\n",
    "# Notation: You can use the prefix \"is_\" to denote boleean variables\n",
    "#\n",
    "# VIEWING OUTPUT:\n",
    "# You can guarantee that the graph appears with plt.show()\n",
    "#------------------------------------------------------------------------------#\n",
    "\n",
    "\n",
    "is_graph_red     = True\n",
    "how_many_classes = np.array([7,1,2,3,3,3,3,4,5,6])\n",
    "\n",
    "if is_graph_red:\n",
    "    plt.hist(x = how_many_classes, color=\"red\")\n",
    "    plt.title(\"Count of students in each category\")\n",
    "    plt.xlabel(\"How many classes are you taking?\")\n",
    "    plt.show() \n",
    "else:\n",
    "    plt.hist(x = how_many_classes, color=\"purple\")\n",
    "    plt.title(\"Count of students in each category\")\n",
    "    plt.xlabel(\"How many classes are you taking?\")\n",
    "    plt.show()\n",
    "\n",
    "\n"
   ]
  },
  {
   "attachments": {},
   "cell_type": "markdown",
   "metadata": {},
   "source": [
    "<font size = \"5\">\n",
    "What happens if ... ? Try the following:\n",
    "<br>\n",
    "\n",
    "- Rerun the above code but change the value of \"is_graph_red\".\n",
    "- What happens if you set a non-boolean value of \"is_graph_red\"?\n",
    "- Don't include \":\"\n",
    "- Don't indent the body of the \"if\"\n"
   ]
  },
  {
   "attachments": {},
   "cell_type": "markdown",
   "metadata": {},
   "source": [
    "<font size = \"5\">\n",
    "\n",
    "<table><tr>\n",
    "<td> <img src=\"figures/elif.png\" alt=\"drawing\" width=\"300\"/>  </td>\n",
    "<td>  Running multiple different lines of code <br>\n",
    "depending on a series of conditions <br>\n",
    "\n",
    "``` python\n",
    "    if test_expression:\n",
    "        Body\n",
    "    elif test_expression:\n",
    "        Body\n",
    "    else: \n",
    "        Body\n",
    "```\n",
    "\n",
    " </td>\n",
    "</tr></table>"
   ]
  },
  {
   "cell_type": "code",
   "execution_count": 51,
   "metadata": {},
   "outputs": [
    {
     "name": "stdout",
     "output_type": "stream",
     "text": [
      "This student is a sophomore\n"
     ]
    }
   ],
   "source": [
    "# The elif (a shorthand for elif) is a good alternative to evaluate\n",
    "# mutually exclusive options\n",
    "\n",
    "years_in_program = 2\n",
    "\n",
    "if years_in_program == 1:\n",
    "    print(\"This student is a freshman\")\n",
    "elif years_in_program == 2:\n",
    "    print(\"This student is a sophomore\")\n",
    "elif years_in_program == 3:\n",
    "    print(\"This student is a junior\")\n",
    "else:\n",
    "    print(\"This student is a senior\")\n",
    "\n",
    "\n",
    "\n",
    "# Try changing the initial input"
   ]
  },
  {
   "attachments": {},
   "cell_type": "markdown",
   "metadata": {},
   "source": [
    "##  <span style=\"color:lightblue\"> V. Exercises </span>\n"
   ]
  },
  {
   "attachments": {},
   "cell_type": "markdown",
   "metadata": {},
   "source": [
    "<font size = \"5\">\n",
    "Try it yourself!\n",
    "<br>\n",
    "\n",
    "- Create a variable called \"points\" with a value between 0 and 100\n",
    "- Write a flow with \"if\", \"elif\" and \"else\" to assign the letter grade\n",
    "- In the body, store the output in a new variable called \"letter_grade\"\n",
    "- Print the letter grade at the end\n",
    "\n",
    "<img src=\"figures/grading_scale.png\" alt=\"drawing\" width=\"700\"/>\n",
    "\n",
    "Important: Check that it works by trying different values of \"points\"!\n",
    "\n"
   ]
  },
  {
   "cell_type": "code",
   "execution_count": 3,
   "metadata": {},
   "outputs": [
    {
     "name": "stdout",
     "output_type": "stream",
     "text": [
      "Grade is a D\n"
     ]
    }
   ],
   "source": [
    "# Write down your solution to this problem\n",
    "grade = 100\n",
    "if grade < 54:\n",
    "    print (\"Grade is an F\")\n",
    "elif (grade < 59) & (grade > 55):\n",
    "    print (\"Grade is a D\")\n",
    "elif (grade < 64) & (grade > 60):\n",
    "    print (\"Grade is a C-\")\n",
    "elif (grade < 69) & (grade > 65):\n",
    "    print (\"Grade is a D\")\n",
    "\n",
    "\n",
    "\n",
    "\n",
    "\n",
    "\n",
    "\n"
   ]
  },
  {
   "attachments": {},
   "cell_type": "markdown",
   "metadata": {},
   "source": [
    "<font size = \"5\">\n",
    "Try it yourself!\n",
    "<br>\n",
    "\n",
    "- Create a numeric vector, $ c = \\begin{bmatrix} 1 \\\\ 2 \\\\ 3 \\end{bmatrix} $\n",
    "- Use the \"sum()\"' function to add up the individual elements.\n",
    "- If the sum of numbers is higher than $5$, write a message saying <br>\n",
    "\" The sum is greater than or equal to 5\"\n",
    "- Otherwise show a message \"It is strictly less than 5\"\n"
   ]
  },
  {
   "cell_type": "code",
   "execution_count": 35,
   "metadata": {},
   "outputs": [],
   "source": [
    "# Write down your solution to this problem\n",
    "\n",
    "\n",
    "\n",
    "\n",
    "\n",
    "\n",
    "\n",
    "\n",
    "\n",
    "\n"
   ]
  }
 ],
 "metadata": {
  "kernelspec": {
   "display_name": "Python 3",
   "language": "python",
   "name": "python3"
  },
  "language_info": {
   "codemirror_mode": {
    "name": "ipython",
    "version": 3
   },
   "file_extension": ".py",
   "mimetype": "text/x-python",
   "name": "python",
   "nbconvert_exporter": "python",
   "pygments_lexer": "ipython3",
   "version": "3.10.6 (v3.10.6:9c7b4bd164, Aug  1 2022, 17:13:48) [Clang 13.0.0 (clang-1300.0.29.30)]"
  },
  "orig_nbformat": 4,
  "vscode": {
   "interpreter": {
    "hash": "aee8b7b246df8f9039afb4144a1f6fd8d2ca17a180786b69acc140d282b71a49"
   }
  }
 },
 "nbformat": 4,
 "nbformat_minor": 2
}
